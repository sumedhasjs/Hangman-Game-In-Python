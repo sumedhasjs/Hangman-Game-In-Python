{
  "nbformat": 4,
  "nbformat_minor": 0,
  "metadata": {
    "colab": {
      "name": "HangmanGame.ipynb",
      "provenance": []
    },
    "kernelspec": {
      "name": "python3",
      "display_name": "Python 3"
    },
    "language_info": {
      "name": "python"
    }
  },
  "cells": [
    {
      "cell_type": "code",
      "metadata": {
        "id": "JIGHDwMB9jlC"
      },
      "source": [
        "import random #Random library is imported"
      ],
      "execution_count": 3,
      "outputs": []
    },
    {
      "cell_type": "code",
      "metadata": {
        "id": "yxdkPpjz9mOf"
      },
      "source": [
        "def Hangman(word): # A function is defined\n",
        "    chances=12 # Giving the user 12 chances to guess the word\n",
        "    trial=0\n",
        "    word_l = list(word) # creating a list of the word for comparing purpose\n",
        "    empty=''\n",
        "    x = len(word_l)\n",
        "    empty_l=list() # An empty list is defined for adding the guessed characters\n",
        "    for i in range(0,x): # Printing - for all the characters which are not yet guessed\n",
        "        empty_l.append('-')\n",
        "    print(\"The word consists of\",len(empty_l),\"letters.\") # Informing the number of letters in the word\n",
        "    while trial!=12:\n",
        "        print('\\n')\n",
        "        print(\"This is your chance\",trial+1)\n",
        "        char=input(\"Enter the guess: \")\n",
        "        for i in range(0,len(word)):\n",
        "            \n",
        "            if word[i]==char: # If the character us in the word, the it is added to the list\n",
        "                empty_l[i]=word[i]\n",
        "                try:\n",
        "                    word_l.remove(char)\n",
        "                except:\n",
        "                    pass\n",
        "        trial+=1\n",
        "        if  trial==12:\n",
        "            if len(word_l)==0: # If the word is guessed in last chance, then the following is printed.\n",
        "                print(\"Right in time! You guessed it.\")\n",
        "                break\n",
        "            else: # If the word is not guessed correctly, the the following is printed.\n",
        "                print(\"Better luck next time! The word was\",word)\n",
        "                break\n",
        "        else:\n",
        "            if len(word_l)==0: # If word is guessed before time, then the following is printed\n",
        "                print(\"You guessed it right! You won.\")\n",
        "                break\n",
        "        if(len(word_l)<x): # Testing is the character given by user is correct or not\n",
        "            print(\"Your guess is correct.You have\",chances-trial,'more guesses left.')\n",
        "            print(empty.join(empty_l))\n",
        "            x = len(word_l)\n",
        "        else:\n",
        "            print(\"Your guess in wrong.Try again.You have\",chances-trial,'more guesses left.')"
      ],
      "execution_count": 6,
      "outputs": []
    },
    {
      "cell_type": "code",
      "metadata": {
        "colab": {
          "base_uri": "https://localhost:8080/"
        },
        "id": "DuNCU_1C97C3",
        "outputId": "e0ed322e-4fdc-4c84-a16a-914ab1178275"
      },
      "source": [
        "# Main Code\n",
        "words=['beautiful','pretty','happy','smiling','polite','patient','honest','confident','successful']\n",
        "word=random.choice(words) #Picking a random word from the given list\n",
        "Hangman(word) # Calling the defined function"
      ],
      "execution_count": 7,
      "outputs": [
        {
          "output_type": "stream",
          "text": [
            "The word consists of 9 letters.\n",
            "\n",
            "\n",
            "This is your chance 1\n",
            "Enter the guess: s\n",
            "Your guess in wrong.Try again.You have 11 more guesses left.\n",
            "\n",
            "\n",
            "This is your chance 2\n",
            "Enter the guess: a\n",
            "Your guess is correct.You have 10 more guesses left.\n",
            "--a------\n",
            "\n",
            "\n",
            "This is your chance 3\n",
            "Enter the guess: e\n",
            "Your guess is correct.You have 9 more guesses left.\n",
            "-ea------\n",
            "\n",
            "\n",
            "This is your chance 4\n",
            "Enter the guess: i\n",
            "Your guess is correct.You have 8 more guesses left.\n",
            "-ea--i---\n",
            "\n",
            "\n",
            "This is your chance 5\n",
            "Enter the guess: b\n",
            "Your guess is correct.You have 7 more guesses left.\n",
            "bea--i---\n",
            "\n",
            "\n",
            "This is your chance 6\n",
            "Enter the guess: f\n",
            "Your guess is correct.You have 6 more guesses left.\n",
            "bea--if--\n",
            "\n",
            "\n",
            "This is your chance 7\n",
            "Enter the guess: u\n",
            "Your guess is correct.You have 5 more guesses left.\n",
            "beau-ifu-\n",
            "\n",
            "\n",
            "This is your chance 8\n",
            "Enter the guess: l\n",
            "Your guess is correct.You have 4 more guesses left.\n",
            "beau-iful\n",
            "\n",
            "\n",
            "This is your chance 9\n",
            "Enter the guess: u\n",
            "Your guess in wrong.Try again.You have 3 more guesses left.\n",
            "\n",
            "\n",
            "This is your chance 10\n",
            "Enter the guess: t\n",
            "You guessed it right! You won.\n"
          ],
          "name": "stdout"
        }
      ]
    },
    {
      "cell_type": "code",
      "metadata": {
        "id": "jp_Iscki97-F"
      },
      "source": [
        ""
      ],
      "execution_count": null,
      "outputs": []
    }
  ]
}